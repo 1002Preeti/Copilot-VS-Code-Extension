{
  "cells": [
    {
      "cell_type": "markdown",
      "metadata": {
        "id": "view-in-github",
        "colab_type": "text"
      },
      "source": [
        "<a href=\"https://colab.research.google.com/github/1002Preeti/Copilot-VS-Code-Extension/blob/main/Amazon_ml_challange.ipynb\" target=\"_parent\"><img src=\"https://colab.research.google.com/assets/colab-badge.svg\" alt=\"Open In Colab\"/></a>"
      ]
    },
    {
      "cell_type": "code",
      "execution_count": null,
      "metadata": {
        "id": "2KEl8jcKZeTT"
      },
      "outputs": [],
      "source": [
        "from google.colab import drive"
      ]
    },
    {
      "cell_type": "code",
      "execution_count": null,
      "metadata": {
        "colab": {
          "base_uri": "https://localhost:8080/"
        },
        "id": "jnpDuggUZhzs",
        "outputId": "8af121f7-4bb8-4359-daa8-ec6c18b45f47"
      },
      "outputs": [
        {
          "output_type": "stream",
          "name": "stdout",
          "text": [
            "Drive already mounted at /content/drive; to attempt to forcibly remount, call drive.mount(\"/content/drive\", force_remount=True).\n"
          ]
        }
      ],
      "source": [
        "drive.mount('/content/drive')"
      ]
    },
    {
      "cell_type": "code",
      "execution_count": null,
      "metadata": {
        "colab": {
          "base_uri": "https://localhost:8080/"
        },
        "id": "24-tE0TWZniZ",
        "outputId": "51cecb8f-fd43-44cf-db5c-a89057b96a33"
      },
      "outputs": [
        {
          "output_type": "stream",
          "name": "stdout",
          "text": [
            "Requirement already satisfied: pandas in /usr/local/lib/python3.10/dist-packages (2.1.4)\n",
            "Requirement already satisfied: pillow in /usr/local/lib/python3.10/dist-packages (9.4.0)\n",
            "Requirement already satisfied: requests in /usr/local/lib/python3.10/dist-packages (2.32.3)\n",
            "Requirement already satisfied: numpy in /usr/local/lib/python3.10/dist-packages (1.26.4)\n",
            "Requirement already satisfied: python-dateutil>=2.8.2 in /usr/local/lib/python3.10/dist-packages (from pandas) (2.8.2)\n",
            "Requirement already satisfied: pytz>=2020.1 in /usr/local/lib/python3.10/dist-packages (from pandas) (2024.2)\n",
            "Requirement already satisfied: tzdata>=2022.1 in /usr/local/lib/python3.10/dist-packages (from pandas) (2024.1)\n",
            "Requirement already satisfied: charset-normalizer<4,>=2 in /usr/local/lib/python3.10/dist-packages (from requests) (3.3.2)\n",
            "Requirement already satisfied: idna<4,>=2.5 in /usr/local/lib/python3.10/dist-packages (from requests) (3.8)\n",
            "Requirement already satisfied: urllib3<3,>=1.21.1 in /usr/local/lib/python3.10/dist-packages (from requests) (2.0.7)\n",
            "Requirement already satisfied: certifi>=2017.4.17 in /usr/local/lib/python3.10/dist-packages (from requests) (2024.8.30)\n",
            "Requirement already satisfied: six>=1.5 in /usr/local/lib/python3.10/dist-packages (from python-dateutil>=2.8.2->pandas) (1.16.0)\n"
          ]
        }
      ],
      "source": [
        "!pip install pandas pillow requests numpy"
      ]
    },
    {
      "cell_type": "code",
      "execution_count": null,
      "metadata": {
        "id": "J9D5_-KdZ6K_"
      },
      "outputs": [],
      "source": [
        "import sys"
      ]
    },
    {
      "cell_type": "code",
      "execution_count": null,
      "metadata": {
        "id": "MWw58jNCaIlo"
      },
      "outputs": [],
      "source": [
        "sys.path.append('/content/drive/MyDrive/student_resource 3/src/utils.py')\n",
        "sys.path.append('/content/drive/MyDrive/student_resource 3/dataset/test.csv')\n",
        "sys.path.append('/content/drive/MyDrive/student_resource 3/src/constants')\n",
        "sys.path.append('/content/drive/MyDrive/student_resource 3/src')"
      ]
    },
    {
      "cell_type": "code",
      "execution_count": null,
      "metadata": {
        "id": "pZ6N-9QKbAg1"
      },
      "outputs": [],
      "source": [
        "import pandas as pd\n",
        "import requests\n",
        "from PIL import Image\n",
        "from io import BytesIO\n",
        "import numpy as np"
      ]
    },
    {
      "cell_type": "code",
      "execution_count": null,
      "metadata": {
        "id": "M4g3fSvjaoHD"
      },
      "outputs": [],
      "source": [
        "train_df= pd.read_csv(\"/content/drive/MyDrive/student_resource 3/dataset/train.csv\")\n",
        "test_df = pd.read_csv(\"/content/drive/MyDrive/student_resource 3/dataset/test.csv\")"
      ]
    },
    {
      "cell_type": "code",
      "execution_count": null,
      "metadata": {
        "id": "pqUWzWlbbETK"
      },
      "outputs": [],
      "source": [
        "train_sample = train_df.sample(n=1000, random_state=42)"
      ]
    },
    {
      "cell_type": "code",
      "execution_count": null,
      "metadata": {
        "colab": {
          "base_uri": "https://localhost:8080/",
          "height": 206
        },
        "id": "v22qb8IabTU5",
        "outputId": "eaab01e4-bc98-434b-a08b-4efa96954b29"
      },
      "outputs": [
        {
          "output_type": "execute_result",
          "data": {
            "text/plain": [
              "   index                                         image_link  group_id  \\\n",
              "0      0  https://m.media-amazon.com/images/I/110EibNycl...    156839   \n",
              "1      1  https://m.media-amazon.com/images/I/11TU2clswz...    792578   \n",
              "2      2  https://m.media-amazon.com/images/I/11TU2clswz...    792578   \n",
              "3      3  https://m.media-amazon.com/images/I/11TU2clswz...    792578   \n",
              "4      4  https://m.media-amazon.com/images/I/11gHj8dhhr...    792578   \n",
              "\n",
              "  entity_name  \n",
              "0      height  \n",
              "1       width  \n",
              "2      height  \n",
              "3       depth  \n",
              "4       depth  "
            ],
            "text/html": [
              "\n",
              "  <div id=\"df-502a26c6-7d93-4309-b75e-deba8a05c60a\" class=\"colab-df-container\">\n",
              "    <div>\n",
              "<style scoped>\n",
              "    .dataframe tbody tr th:only-of-type {\n",
              "        vertical-align: middle;\n",
              "    }\n",
              "\n",
              "    .dataframe tbody tr th {\n",
              "        vertical-align: top;\n",
              "    }\n",
              "\n",
              "    .dataframe thead th {\n",
              "        text-align: right;\n",
              "    }\n",
              "</style>\n",
              "<table border=\"1\" class=\"dataframe\">\n",
              "  <thead>\n",
              "    <tr style=\"text-align: right;\">\n",
              "      <th></th>\n",
              "      <th>index</th>\n",
              "      <th>image_link</th>\n",
              "      <th>group_id</th>\n",
              "      <th>entity_name</th>\n",
              "    </tr>\n",
              "  </thead>\n",
              "  <tbody>\n",
              "    <tr>\n",
              "      <th>0</th>\n",
              "      <td>0</td>\n",
              "      <td>https://m.media-amazon.com/images/I/110EibNycl...</td>\n",
              "      <td>156839</td>\n",
              "      <td>height</td>\n",
              "    </tr>\n",
              "    <tr>\n",
              "      <th>1</th>\n",
              "      <td>1</td>\n",
              "      <td>https://m.media-amazon.com/images/I/11TU2clswz...</td>\n",
              "      <td>792578</td>\n",
              "      <td>width</td>\n",
              "    </tr>\n",
              "    <tr>\n",
              "      <th>2</th>\n",
              "      <td>2</td>\n",
              "      <td>https://m.media-amazon.com/images/I/11TU2clswz...</td>\n",
              "      <td>792578</td>\n",
              "      <td>height</td>\n",
              "    </tr>\n",
              "    <tr>\n",
              "      <th>3</th>\n",
              "      <td>3</td>\n",
              "      <td>https://m.media-amazon.com/images/I/11TU2clswz...</td>\n",
              "      <td>792578</td>\n",
              "      <td>depth</td>\n",
              "    </tr>\n",
              "    <tr>\n",
              "      <th>4</th>\n",
              "      <td>4</td>\n",
              "      <td>https://m.media-amazon.com/images/I/11gHj8dhhr...</td>\n",
              "      <td>792578</td>\n",
              "      <td>depth</td>\n",
              "    </tr>\n",
              "  </tbody>\n",
              "</table>\n",
              "</div>\n",
              "    <div class=\"colab-df-buttons\">\n",
              "\n",
              "  <div class=\"colab-df-container\">\n",
              "    <button class=\"colab-df-convert\" onclick=\"convertToInteractive('df-502a26c6-7d93-4309-b75e-deba8a05c60a')\"\n",
              "            title=\"Convert this dataframe to an interactive table.\"\n",
              "            style=\"display:none;\">\n",
              "\n",
              "  <svg xmlns=\"http://www.w3.org/2000/svg\" height=\"24px\" viewBox=\"0 -960 960 960\">\n",
              "    <path d=\"M120-120v-720h720v720H120Zm60-500h600v-160H180v160Zm220 220h160v-160H400v160Zm0 220h160v-160H400v160ZM180-400h160v-160H180v160Zm440 0h160v-160H620v160ZM180-180h160v-160H180v160Zm440 0h160v-160H620v160Z\"/>\n",
              "  </svg>\n",
              "    </button>\n",
              "\n",
              "  <style>\n",
              "    .colab-df-container {\n",
              "      display:flex;\n",
              "      gap: 12px;\n",
              "    }\n",
              "\n",
              "    .colab-df-convert {\n",
              "      background-color: #E8F0FE;\n",
              "      border: none;\n",
              "      border-radius: 50%;\n",
              "      cursor: pointer;\n",
              "      display: none;\n",
              "      fill: #1967D2;\n",
              "      height: 32px;\n",
              "      padding: 0 0 0 0;\n",
              "      width: 32px;\n",
              "    }\n",
              "\n",
              "    .colab-df-convert:hover {\n",
              "      background-color: #E2EBFA;\n",
              "      box-shadow: 0px 1px 2px rgba(60, 64, 67, 0.3), 0px 1px 3px 1px rgba(60, 64, 67, 0.15);\n",
              "      fill: #174EA6;\n",
              "    }\n",
              "\n",
              "    .colab-df-buttons div {\n",
              "      margin-bottom: 4px;\n",
              "    }\n",
              "\n",
              "    [theme=dark] .colab-df-convert {\n",
              "      background-color: #3B4455;\n",
              "      fill: #D2E3FC;\n",
              "    }\n",
              "\n",
              "    [theme=dark] .colab-df-convert:hover {\n",
              "      background-color: #434B5C;\n",
              "      box-shadow: 0px 1px 3px 1px rgba(0, 0, 0, 0.15);\n",
              "      filter: drop-shadow(0px 1px 2px rgba(0, 0, 0, 0.3));\n",
              "      fill: #FFFFFF;\n",
              "    }\n",
              "  </style>\n",
              "\n",
              "    <script>\n",
              "      const buttonEl =\n",
              "        document.querySelector('#df-502a26c6-7d93-4309-b75e-deba8a05c60a button.colab-df-convert');\n",
              "      buttonEl.style.display =\n",
              "        google.colab.kernel.accessAllowed ? 'block' : 'none';\n",
              "\n",
              "      async function convertToInteractive(key) {\n",
              "        const element = document.querySelector('#df-502a26c6-7d93-4309-b75e-deba8a05c60a');\n",
              "        const dataTable =\n",
              "          await google.colab.kernel.invokeFunction('convertToInteractive',\n",
              "                                                    [key], {});\n",
              "        if (!dataTable) return;\n",
              "\n",
              "        const docLinkHtml = 'Like what you see? Visit the ' +\n",
              "          '<a target=\"_blank\" href=https://colab.research.google.com/notebooks/data_table.ipynb>data table notebook</a>'\n",
              "          + ' to learn more about interactive tables.';\n",
              "        element.innerHTML = '';\n",
              "        dataTable['output_type'] = 'display_data';\n",
              "        await google.colab.output.renderOutput(dataTable, element);\n",
              "        const docLink = document.createElement('div');\n",
              "        docLink.innerHTML = docLinkHtml;\n",
              "        element.appendChild(docLink);\n",
              "      }\n",
              "    </script>\n",
              "  </div>\n",
              "\n",
              "\n",
              "<div id=\"df-1675883f-f84e-4ca1-b146-7b26fa804e83\">\n",
              "  <button class=\"colab-df-quickchart\" onclick=\"quickchart('df-1675883f-f84e-4ca1-b146-7b26fa804e83')\"\n",
              "            title=\"Suggest charts\"\n",
              "            style=\"display:none;\">\n",
              "\n",
              "<svg xmlns=\"http://www.w3.org/2000/svg\" height=\"24px\"viewBox=\"0 0 24 24\"\n",
              "     width=\"24px\">\n",
              "    <g>\n",
              "        <path d=\"M19 3H5c-1.1 0-2 .9-2 2v14c0 1.1.9 2 2 2h14c1.1 0 2-.9 2-2V5c0-1.1-.9-2-2-2zM9 17H7v-7h2v7zm4 0h-2V7h2v10zm4 0h-2v-4h2v4z\"/>\n",
              "    </g>\n",
              "</svg>\n",
              "  </button>\n",
              "\n",
              "<style>\n",
              "  .colab-df-quickchart {\n",
              "      --bg-color: #E8F0FE;\n",
              "      --fill-color: #1967D2;\n",
              "      --hover-bg-color: #E2EBFA;\n",
              "      --hover-fill-color: #174EA6;\n",
              "      --disabled-fill-color: #AAA;\n",
              "      --disabled-bg-color: #DDD;\n",
              "  }\n",
              "\n",
              "  [theme=dark] .colab-df-quickchart {\n",
              "      --bg-color: #3B4455;\n",
              "      --fill-color: #D2E3FC;\n",
              "      --hover-bg-color: #434B5C;\n",
              "      --hover-fill-color: #FFFFFF;\n",
              "      --disabled-bg-color: #3B4455;\n",
              "      --disabled-fill-color: #666;\n",
              "  }\n",
              "\n",
              "  .colab-df-quickchart {\n",
              "    background-color: var(--bg-color);\n",
              "    border: none;\n",
              "    border-radius: 50%;\n",
              "    cursor: pointer;\n",
              "    display: none;\n",
              "    fill: var(--fill-color);\n",
              "    height: 32px;\n",
              "    padding: 0;\n",
              "    width: 32px;\n",
              "  }\n",
              "\n",
              "  .colab-df-quickchart:hover {\n",
              "    background-color: var(--hover-bg-color);\n",
              "    box-shadow: 0 1px 2px rgba(60, 64, 67, 0.3), 0 1px 3px 1px rgba(60, 64, 67, 0.15);\n",
              "    fill: var(--button-hover-fill-color);\n",
              "  }\n",
              "\n",
              "  .colab-df-quickchart-complete:disabled,\n",
              "  .colab-df-quickchart-complete:disabled:hover {\n",
              "    background-color: var(--disabled-bg-color);\n",
              "    fill: var(--disabled-fill-color);\n",
              "    box-shadow: none;\n",
              "  }\n",
              "\n",
              "  .colab-df-spinner {\n",
              "    border: 2px solid var(--fill-color);\n",
              "    border-color: transparent;\n",
              "    border-bottom-color: var(--fill-color);\n",
              "    animation:\n",
              "      spin 1s steps(1) infinite;\n",
              "  }\n",
              "\n",
              "  @keyframes spin {\n",
              "    0% {\n",
              "      border-color: transparent;\n",
              "      border-bottom-color: var(--fill-color);\n",
              "      border-left-color: var(--fill-color);\n",
              "    }\n",
              "    20% {\n",
              "      border-color: transparent;\n",
              "      border-left-color: var(--fill-color);\n",
              "      border-top-color: var(--fill-color);\n",
              "    }\n",
              "    30% {\n",
              "      border-color: transparent;\n",
              "      border-left-color: var(--fill-color);\n",
              "      border-top-color: var(--fill-color);\n",
              "      border-right-color: var(--fill-color);\n",
              "    }\n",
              "    40% {\n",
              "      border-color: transparent;\n",
              "      border-right-color: var(--fill-color);\n",
              "      border-top-color: var(--fill-color);\n",
              "    }\n",
              "    60% {\n",
              "      border-color: transparent;\n",
              "      border-right-color: var(--fill-color);\n",
              "    }\n",
              "    80% {\n",
              "      border-color: transparent;\n",
              "      border-right-color: var(--fill-color);\n",
              "      border-bottom-color: var(--fill-color);\n",
              "    }\n",
              "    90% {\n",
              "      border-color: transparent;\n",
              "      border-bottom-color: var(--fill-color);\n",
              "    }\n",
              "  }\n",
              "</style>\n",
              "\n",
              "  <script>\n",
              "    async function quickchart(key) {\n",
              "      const quickchartButtonEl =\n",
              "        document.querySelector('#' + key + ' button');\n",
              "      quickchartButtonEl.disabled = true;  // To prevent multiple clicks.\n",
              "      quickchartButtonEl.classList.add('colab-df-spinner');\n",
              "      try {\n",
              "        const charts = await google.colab.kernel.invokeFunction(\n",
              "            'suggestCharts', [key], {});\n",
              "      } catch (error) {\n",
              "        console.error('Error during call to suggestCharts:', error);\n",
              "      }\n",
              "      quickchartButtonEl.classList.remove('colab-df-spinner');\n",
              "      quickchartButtonEl.classList.add('colab-df-quickchart-complete');\n",
              "    }\n",
              "    (() => {\n",
              "      let quickchartButtonEl =\n",
              "        document.querySelector('#df-1675883f-f84e-4ca1-b146-7b26fa804e83 button');\n",
              "      quickchartButtonEl.style.display =\n",
              "        google.colab.kernel.accessAllowed ? 'block' : 'none';\n",
              "    })();\n",
              "  </script>\n",
              "</div>\n",
              "\n",
              "    </div>\n",
              "  </div>\n"
            ],
            "application/vnd.google.colaboratory.intrinsic+json": {
              "type": "dataframe",
              "variable_name": "test_df"
            }
          },
          "metadata": {},
          "execution_count": 9
        }
      ],
      "source": [
        "test_df.head()"
      ]
    },
    {
      "cell_type": "code",
      "execution_count": null,
      "metadata": {
        "id": "Z__OJHG5bZvf"
      },
      "outputs": [],
      "source": [
        "#train_sample = train_df.sample(n=1000, random_state=42)\n"
      ]
    },
    {
      "cell_type": "code",
      "execution_count": null,
      "metadata": {
        "id": "nG1mQ5Hwbhz2"
      },
      "outputs": [],
      "source": [
        "def preprocess_image_from_url(image_url, target_size=(224, 224)):\n",
        "    try:\n",
        "        # Step 1: Download the image\n",
        "        response = requests.get(image_url)\n",
        "        response.raise_for_status()\n",
        "\n",
        "        # Step 2: Open the image\n",
        "        img = Image.open(BytesIO(response.content))\n",
        "\n",
        "        # Step 3: Resize the image\n",
        "        img = img.resize(target_size)\n",
        "\n",
        "        # Step 4: Convert to RGB\n",
        "        img = img.convert('RGB')\n",
        "\n",
        "        # Step 5: Convert to NumPy array and normalize\n",
        "        img_array = np.array(img).astype('float32') / 255.0\n",
        "\n",
        "        # Step 6: Expand dimensions\n",
        "\n",
        "\n",
        "        return img_array\n",
        "    except Exception as e:\n",
        "        black_image_array = np.zeros((1, 224, 224, 3), dtype='float32')\n",
        "        print(f\"Error processing image from {image_url}: {e}\")\n",
        "        return black_image_array\n"
      ]
    },
    {
      "cell_type": "code",
      "execution_count": null,
      "metadata": {
        "id": "KRGbjgxEb44Z"
      },
      "outputs": [],
      "source": [
        "train_sample['preprocessed_image'] = train_sample['image_link'].apply(preprocess_image_from_url)"
      ]
    },
    {
      "cell_type": "code",
      "source": [
        "test_df['preprocessed_image'] = test_df['image_link'].apply(preprocess_image_from_url)"
      ],
      "metadata": {
        "id": "26XZGPavRnus"
      },
      "execution_count": null,
      "outputs": []
    },
    {
      "cell_type": "code",
      "execution_count": null,
      "metadata": {
        "id": "OFUcpApIcEj0"
      },
      "outputs": [],
      "source": [
        "train_sample.head()"
      ]
    },
    {
      "cell_type": "code",
      "execution_count": null,
      "metadata": {
        "id": "dS1fViAJdExS"
      },
      "outputs": [],
      "source": [
        "import re\n",
        "from constants import entity_unit_map, allowed_units"
      ]
    },
    {
      "cell_type": "code",
      "execution_count": null,
      "metadata": {
        "id": "p5t6nesVeyZu"
      },
      "outputs": [],
      "source": [
        "def process_entity_value_with_validation(entity_name, value):\n",
        "    try:\n",
        "        # Regex to match the numeric part and the unit\n",
        "        match = re.match(r\"([0-9.]+)\\s*(\\w+)\", value)\n",
        "        if match:\n",
        "            numeric_value = float(match.group(1))  # Extract the number\n",
        "            unit = match.group(2)  # Extract the unit\n",
        "\n",
        "            # Check if the unit is valid for the given entity_name\n",
        "            if entity_name in entity_unit_map and unit in entity_unit_map[entity_name]:\n",
        "                return numeric_value, unit\n",
        "            else:\n",
        "                raise ValueError(f\"Invalid unit '{unit}' for entity '{entity_name}'\")\n",
        "        return np.nan, np.nan\n",
        "    except Exception as e:\n",
        "        print(f\"Error processing entity_value: {value}, Error: {e}\")\n",
        "        return np.nan, np.nan"
      ]
    },
    {
      "cell_type": "code",
      "execution_count": null,
      "metadata": {
        "id": "dvoZoAmYqAlg"
      },
      "outputs": [],
      "source": []
    },
    {
      "cell_type": "code",
      "execution_count": null,
      "metadata": {
        "id": "yvP_H8ZqqAho"
      },
      "outputs": [],
      "source": []
    },
    {
      "cell_type": "code",
      "execution_count": null,
      "metadata": {
        "id": "JCaWAz3qe9-f"
      },
      "outputs": [],
      "source": [
        "train_sample[['numeric_value', 'unit']] = train_sample.apply(\n",
        "    lambda row: pd.Series(process_entity_value_with_validation(row['entity_name'], row['entity_value'])),\n",
        "    axis=1\n",
        ")"
      ]
    },
    {
      "cell_type": "code",
      "execution_count": null,
      "metadata": {
        "id": "rUu8OdtwfGq6"
      },
      "outputs": [],
      "source": [
        "train_sample = train_sample.dropna(subset=['numeric_value', 'unit'])"
      ]
    },
    {
      "cell_type": "code",
      "execution_count": null,
      "metadata": {
        "id": "M7v24pYlfP7w"
      },
      "outputs": [],
      "source": [
        "train_sample.head()"
      ]
    },
    {
      "cell_type": "code",
      "execution_count": null,
      "metadata": {
        "id": "dr5Qb2-9g2FL"
      },
      "outputs": [],
      "source": [
        "train_sample.size"
      ]
    },
    {
      "cell_type": "code",
      "source": [
        "train_sample['preprocessed_image'].iloc[0].shape"
      ],
      "metadata": {
        "id": "c2ZPQ74dMKCi"
      },
      "execution_count": null,
      "outputs": []
    },
    {
      "cell_type": "code",
      "execution_count": null,
      "metadata": {
        "id": "yf0kxfuzr-I3"
      },
      "outputs": [],
      "source": [
        "from sklearn.preprocessing import LabelEncoder\n",
        "label_encoder = LabelEncoder()\n",
        "train_sample['unit_encoded'] = label_encoder.fit_transform(train_sample['unit'])"
      ]
    },
    {
      "cell_type": "code",
      "execution_count": null,
      "metadata": {
        "id": "y7F0rCDbs9yi"
      },
      "outputs": [],
      "source": [
        "from sklearn.preprocessing import MinMaxScaler, StandardScaler"
      ]
    },
    {
      "cell_type": "code",
      "execution_count": null,
      "metadata": {
        "id": "WirQt1TUsu5O"
      },
      "outputs": [],
      "source": [
        "standard_scaler = StandardScaler()\n",
        "train_sample['numeric_value_standardized'] = standard_scaler.fit_transform(train_sample[['numeric_value']])"
      ]
    },
    {
      "cell_type": "code",
      "source": [
        "train_sample.head(10)"
      ],
      "metadata": {
        "id": "G5XksYNcEGKZ"
      },
      "execution_count": null,
      "outputs": []
    },
    {
      "cell_type": "code",
      "source": [
        "from tensorflow.keras.models import Model\n",
        "from tensorflow.keras.layers import Input, Dense, Conv2D, MaxPooling2D, Flatten, Concatenate\n",
        "from tensorflow.keras.optimizers import Adam\n",
        "\n",
        "units = train_sample['unit'].unique()\n",
        "num_units = len(units)\n",
        "# Input layer for preprocessed images\n",
        "input_image = Input(shape=(224, 224, 3))  # Adjust shape based on your image dimensions\n",
        "\n",
        "# Convolutional layers\n",
        "x = Conv2D(32, (3, 3), activation='relu', padding='same')(input_image)\n",
        "x = AvgPooling2D((2, 2))(x)\n",
        "x = Conv2D(64, (3, 3), activation='relu', padding='same')(x)\n",
        "x = AvgPooling2D((2, 2))(x)\n",
        "x = Conv2D(128, (3, 3), activation='relu', padding='same')(x)\n",
        "x = AvgPooling2D((2, 2))(x)\n",
        "x = Flatten()(x)\n",
        "\n",
        "# Branch for numeric value prediction\n",
        "numeric_branch = Dense(128, activation='relu')(x)\n",
        "numeric_output = Dense(1, name='numeric_value')(numeric_branch)\n",
        "\n",
        "# Branch for unit classification\n",
        "unit_branch = Dense(128, activation='relu')(x)\n",
        "unit_output = Dense(len(set(units)), activation='softmax', name='unit')(unit_branch)\n",
        "\n",
        "# Combine the branches into a single model\n",
        "model = Model(inputs=input_image, outputs=[numeric_output, unit_output])\n",
        "\n",
        "# Compile the model\n",
        "model.compile(optimizer=Adam(),\n",
        "              loss={'numeric_value': 'mean_squared_error', 'unit': 'sparse_categorical_crossentropy'},\n",
        "              metrics={'unit': 'accuracy'})"
      ],
      "metadata": {
        "id": "Kg9i445KFTpv"
      },
      "execution_count": null,
      "outputs": []
    },
    {
      "cell_type": "code",
      "source": [
        "X_train_images = np.array([np.array(img) for img in train_sample['preprocessed_image']])\n",
        "y_train_numeric = np.array(train_sample['numeric_value'])\n",
        "y_train_unit = np.array(train_sample['unit_encoded'])"
      ],
      "metadata": {
        "id": "NP-BZ5eFFaZ1"
      },
      "execution_count": null,
      "outputs": []
    },
    {
      "cell_type": "code",
      "source": [
        "history = model.fit(X_train_images,\n",
        "                    {'numeric_value': y_train_numeric, 'unit': y_train_unit},\n",
        "                    epochs=50,\n",
        "                    batch_size=32,\n",
        "                    validation_split=0.2)"
      ],
      "metadata": {
        "id": "6E341pcqFnJ2"
      },
      "execution_count": null,
      "outputs": []
    },
    {
      "cell_type": "code",
      "source": [
        "def predict_entity_value(model, image_array):\n",
        "    # Predict using the model\n",
        "     predicted_numeric_value, predicted_unit = model.predict(img_array)\n",
        "\n",
        "    # Extract numeric_value and unit from predictions\n",
        "    # Ensure the indices or keys match your model's output\n",
        "     predicted_numeric_value = standard_scaler.inverse_transform(predicted_numeric_value.reshape(-1, 1))\n",
        "\n",
        "    # Convert unit prediction back to string\n",
        "    predicted_unit = label_encoder.inverse_transform(np.argmax(predicted_unit, axis=-1))\n",
        "\n",
        "    # Construct entity_value string\n",
        "    entity_value = f\"{predicted_numeric_value[0][0]} {predicted_unit[0]}\"\n",
        "    return entity_value"
      ],
      "metadata": {
        "id": "b8ZMnNTVQ9Ui"
      },
      "execution_count": null,
      "outputs": []
    },
    {
      "cell_type": "code",
      "source": [
        "def predict_and_format_entity_value(model, image_array):\n",
        "    numeric_value, unit = predict_entity_value(model, image_array)\n",
        "    return format_entity_value(numeric_value, unit)"
      ],
      "metadata": {
        "id": "t47dMahyQQ1F"
      },
      "execution_count": null,
      "outputs": []
    },
    {
      "cell_type": "code",
      "source": [
        "entity_values = []\n",
        "for index, row in test_df.iterrows():\n",
        "    image_array = np.array(eval(row['preprocessed_image']))  # Adjust as needed for your image format\n",
        "    entity_value = predict_and_format_entity_value(model, image_array)\n",
        "    entity_values.append(entity_value)\n",
        "\n",
        "# Add the predictions to the DataFrame\n",
        "test_df['entity_value'] = entity_values"
      ],
      "metadata": {
        "id": "Utvf9pkBQSsw"
      },
      "execution_count": null,
      "outputs": []
    },
    {
      "cell_type": "code",
      "source": [],
      "metadata": {
        "id": "ZFir7C9wQfzv"
      },
      "execution_count": null,
      "outputs": []
    }
  ],
  "metadata": {
    "colab": {
      "provenance": [],
      "gpuType": "T4",
      "include_colab_link": true
    },
    "kernelspec": {
      "display_name": "Python 3",
      "name": "python3"
    },
    "language_info": {
      "name": "python"
    },
    "accelerator": "GPU"
  },
  "nbformat": 4,
  "nbformat_minor": 0
}